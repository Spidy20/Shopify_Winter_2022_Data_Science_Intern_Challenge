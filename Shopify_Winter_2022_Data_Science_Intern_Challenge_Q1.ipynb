{
  "nbformat": 4,
  "nbformat_minor": 0,
  "metadata": {
    "colab": {
      "name": "Shopify_Winter 2022 Data Science Intern Challenge_Q1.ipynb",
      "provenance": []
    },
    "kernelspec": {
      "name": "python3",
      "display_name": "Python 3"
    },
    "language_info": {
      "name": "python"
    }
  },
  "cells": [
    {
      "cell_type": "markdown",
      "metadata": {
        "id": "fojqZo9_3yNQ"
      },
      "source": [
        "## Winter 2022 Data Science Intern Challenge"
      ]
    },
    {
      "cell_type": "markdown",
      "metadata": {
        "id": "-2VzHhqR325g"
      },
      "source": [
        "Question 1: Given some sample data, write a program to answer the following: click here to access the required data set\n",
        "\n",
        "On Shopify, we have exactly 100 sneaker shops, and each of these shops sells only one model of shoe. We want to do some analysis of the average order value (AOV). When we look at orders data over a 30 day window, we naively calculate an AOV of $3145.13. Given that we know these shops are selling sneakers, a relatively affordable item, something seems wrong with our analysis. \n",
        "\n",
        "(a) Think about what could be going wrong with our calculation. Think about a better way to evaluate this data. \n",
        "\n",
        "(b) What metric would you report for this dataset?\n",
        "\n",
        "(c) What is its value?\n"
      ]
    },
    {
      "cell_type": "markdown",
      "metadata": {
        "id": "-6dEmwDn4QAa"
      },
      "source": [
        "## Our first step is to download the dataset and convert it into Pandas Dataframe"
      ]
    },
    {
      "cell_type": "code",
      "metadata": {
        "id": "NOuddf4O3xlm"
      },
      "source": [
        "import pandas as pd\n",
        "import numpy as np"
      ],
      "execution_count": 1,
      "outputs": []
    },
    {
      "cell_type": "code",
      "metadata": {
        "colab": {
          "base_uri": "https://localhost:8080/",
          "height": 206
        },
        "id": "JX0itLB5486S",
        "outputId": "f9ae9c00-e724-4d8e-f674-072dd0534fe6"
      },
      "source": [
        "# LEt's rad the data\n",
        "df = pd.read_csv('/content/2019 Winter Data Science Intern Challenge Data Set - Sheet1.csv')\n",
        "df.head()"
      ],
      "execution_count": 2,
      "outputs": [
        {
          "output_type": "execute_result",
          "data": {
            "text/html": [
              "<div>\n",
              "<style scoped>\n",
              "    .dataframe tbody tr th:only-of-type {\n",
              "        vertical-align: middle;\n",
              "    }\n",
              "\n",
              "    .dataframe tbody tr th {\n",
              "        vertical-align: top;\n",
              "    }\n",
              "\n",
              "    .dataframe thead th {\n",
              "        text-align: right;\n",
              "    }\n",
              "</style>\n",
              "<table border=\"1\" class=\"dataframe\">\n",
              "  <thead>\n",
              "    <tr style=\"text-align: right;\">\n",
              "      <th></th>\n",
              "      <th>order_id</th>\n",
              "      <th>shop_id</th>\n",
              "      <th>user_id</th>\n",
              "      <th>order_amount</th>\n",
              "      <th>total_items</th>\n",
              "      <th>payment_method</th>\n",
              "      <th>created_at</th>\n",
              "    </tr>\n",
              "  </thead>\n",
              "  <tbody>\n",
              "    <tr>\n",
              "      <th>0</th>\n",
              "      <td>1</td>\n",
              "      <td>53</td>\n",
              "      <td>746</td>\n",
              "      <td>224</td>\n",
              "      <td>2</td>\n",
              "      <td>cash</td>\n",
              "      <td>2017-03-13 12:36:56</td>\n",
              "    </tr>\n",
              "    <tr>\n",
              "      <th>1</th>\n",
              "      <td>2</td>\n",
              "      <td>92</td>\n",
              "      <td>925</td>\n",
              "      <td>90</td>\n",
              "      <td>1</td>\n",
              "      <td>cash</td>\n",
              "      <td>2017-03-03 17:38:52</td>\n",
              "    </tr>\n",
              "    <tr>\n",
              "      <th>2</th>\n",
              "      <td>3</td>\n",
              "      <td>44</td>\n",
              "      <td>861</td>\n",
              "      <td>144</td>\n",
              "      <td>1</td>\n",
              "      <td>cash</td>\n",
              "      <td>2017-03-14 4:23:56</td>\n",
              "    </tr>\n",
              "    <tr>\n",
              "      <th>3</th>\n",
              "      <td>4</td>\n",
              "      <td>18</td>\n",
              "      <td>935</td>\n",
              "      <td>156</td>\n",
              "      <td>1</td>\n",
              "      <td>credit_card</td>\n",
              "      <td>2017-03-26 12:43:37</td>\n",
              "    </tr>\n",
              "    <tr>\n",
              "      <th>4</th>\n",
              "      <td>5</td>\n",
              "      <td>18</td>\n",
              "      <td>883</td>\n",
              "      <td>156</td>\n",
              "      <td>1</td>\n",
              "      <td>credit_card</td>\n",
              "      <td>2017-03-01 4:35:11</td>\n",
              "    </tr>\n",
              "  </tbody>\n",
              "</table>\n",
              "</div>"
            ],
            "text/plain": [
              "   order_id  shop_id  user_id  ...  total_items  payment_method           created_at\n",
              "0         1       53      746  ...            2            cash  2017-03-13 12:36:56\n",
              "1         2       92      925  ...            1            cash  2017-03-03 17:38:52\n",
              "2         3       44      861  ...            1            cash   2017-03-14 4:23:56\n",
              "3         4       18      935  ...            1     credit_card  2017-03-26 12:43:37\n",
              "4         5       18      883  ...            1     credit_card   2017-03-01 4:35:11\n",
              "\n",
              "[5 rows x 7 columns]"
            ]
          },
          "metadata": {},
          "execution_count": 2
        }
      ]
    },
    {
      "cell_type": "code",
      "metadata": {
        "colab": {
          "base_uri": "https://localhost:8080/"
        },
        "id": "o4ehSEiB5E9c",
        "outputId": "0472b85f-673d-4332-906e-ff06c972a2b5"
      },
      "source": [
        "df.shape"
      ],
      "execution_count": 3,
      "outputs": [
        {
          "output_type": "execute_result",
          "data": {
            "text/plain": [
              "(5000, 7)"
            ]
          },
          "metadata": {},
          "execution_count": 3
        }
      ]
    },
    {
      "cell_type": "code",
      "metadata": {
        "colab": {
          "base_uri": "https://localhost:8080/"
        },
        "id": "cMjrKfdI5G_U",
        "outputId": "9b25c107-871d-4f0c-f4df-3fc4aef2c203"
      },
      "source": [
        "df.columns"
      ],
      "execution_count": 4,
      "outputs": [
        {
          "output_type": "execute_result",
          "data": {
            "text/plain": [
              "Index(['order_id', 'shop_id', 'user_id', 'order_amount', 'total_items',\n",
              "       'payment_method', 'created_at'],\n",
              "      dtype='object')"
            ]
          },
          "metadata": {},
          "execution_count": 4
        }
      ]
    },
    {
      "cell_type": "code",
      "metadata": {
        "colab": {
          "base_uri": "https://localhost:8080/"
        },
        "id": "XYwdvMGq5qZ6",
        "outputId": "19ba370f-5fb6-4bd4-d782-7ea2bac059f6"
      },
      "source": [
        "df.info"
      ],
      "execution_count": 5,
      "outputs": [
        {
          "output_type": "execute_result",
          "data": {
            "text/plain": [
              "<bound method DataFrame.info of       order_id  shop_id  ...  payment_method           created_at\n",
              "0            1       53  ...            cash  2017-03-13 12:36:56\n",
              "1            2       92  ...            cash  2017-03-03 17:38:52\n",
              "2            3       44  ...            cash   2017-03-14 4:23:56\n",
              "3            4       18  ...     credit_card  2017-03-26 12:43:37\n",
              "4            5       18  ...     credit_card   2017-03-01 4:35:11\n",
              "...        ...      ...  ...             ...                  ...\n",
              "4995      4996       73  ...           debit  2017-03-30 13:47:17\n",
              "4996      4997       48  ...            cash  2017-03-16 20:36:16\n",
              "4997      4998       56  ...            cash   2017-03-19 5:42:42\n",
              "4998      4999       60  ...     credit_card  2017-03-16 14:51:18\n",
              "4999      5000       44  ...           debit  2017-03-18 15:48:18\n",
              "\n",
              "[5000 rows x 7 columns]>"
            ]
          },
          "metadata": {},
          "execution_count": 5
        }
      ]
    },
    {
      "cell_type": "code",
      "metadata": {
        "id": "NyRgVZI-8POz"
      },
      "source": [
        ""
      ],
      "execution_count": null,
      "outputs": []
    },
    {
      "cell_type": "markdown",
      "metadata": {
        "id": "nHcBihUe7fD2"
      },
      "source": [
        "## FOr Q2 we will take the sum of order & total columns and we can find average order value by just divide the total order amount by total sum of items."
      ]
    },
    {
      "cell_type": "code",
      "metadata": {
        "colab": {
          "base_uri": "https://localhost:8080/"
        },
        "id": "a6Rfloi35q-H",
        "outputId": "65d51c07-c819-4b28-a28d-8286dc726d94"
      },
      "source": [
        "# LEt's calculate AOV(Average Order Value) of 'order amount' & 'total_items[Q2]'\n",
        "# We are using SUM()\n",
        "order_sum = df['order_amount'].sum()\n",
        "total_sum = df['total_items'].sum()\n",
        "print(order_sum)\n",
        "print(total_sum)"
      ],
      "execution_count": 7,
      "outputs": [
        {
          "output_type": "stream",
          "name": "stdout",
          "text": [
            "15725640\n",
            "43936\n"
          ]
        }
      ]
    },
    {
      "cell_type": "markdown",
      "metadata": {
        "id": "orp12aKe7Hft"
      },
      "source": [
        "##Q3-Answer:  We can consider it 357.92$ "
      ]
    },
    {
      "cell_type": "code",
      "metadata": {
        "colab": {
          "base_uri": "https://localhost:8080/"
        },
        "id": "5tCuHCnZ6kpW",
        "outputId": "e7b82c45-b42a-4f2a-9f4d-80bd6e815e85"
      },
      "source": [
        "# Now let's calculate the average [Q3]\n",
        "aov = order_sum/total_sum\n",
        "print(aov)"
      ],
      "execution_count": 9,
      "outputs": [
        {
          "output_type": "stream",
          "name": "stdout",
          "text": [
            "357.92152221412965\n"
          ]
        }
      ]
    },
    {
      "cell_type": "markdown",
      "metadata": {
        "id": "t3oMq63I8PxB"
      },
      "source": [
        "## Q1 Think about what could be going wrong with our calculation. Think about a better way to evaluate this data.\n",
        "\n",
        "## We have calculated AOV in Q3, and we are getting it 357 Dollors, but it is given 3145 Dollors AOV in the explanation of question. So it is mistake there."
      ]
    },
    {
      "cell_type": "markdown",
      "metadata": {
        "id": "9zLV0rNN9Bxt"
      },
      "source": [
        "## Le'ts find mistake in calculation"
      ]
    },
    {
      "cell_type": "code",
      "metadata": {
        "colab": {
          "base_uri": "https://localhost:8080/"
        },
        "id": "5pnHH6MO615z",
        "outputId": "0708ae15-4655-4af9-f739-d06c04c0e2ad"
      },
      "source": [
        "order_sum = df['order_amount'].count()\n",
        "total_sum = df['total_items'].sum()\n",
        "wrong_AOV = order_sum/total_sum\n",
        "print(order_sum)\n",
        "print(total_sum)\n",
        "print(wrong_AOV)"
      ],
      "execution_count": 11,
      "outputs": [
        {
          "output_type": "stream",
          "name": "stdout",
          "text": [
            "5000\n",
            "43936\n",
            "0.11380189366351057\n"
          ]
        }
      ]
    },
    {
      "cell_type": "code",
      "metadata": {
        "colab": {
          "base_uri": "https://localhost:8080/"
        },
        "id": "-N06KnFK9Tf3",
        "outputId": "7dc5dcfe-b8de-43a5-df7e-10e88b14c4da"
      },
      "source": [
        "order_sum = df['order_amount'].sum()\n",
        "total_sum = df['total_items'].count()\n",
        "wrong_AOV = order_sum/total_sum\n",
        "print(order_sum)\n",
        "print(total_sum)\n",
        "print(wrong_AOV)"
      ],
      "execution_count": 13,
      "outputs": [
        {
          "output_type": "stream",
          "name": "stdout",
          "text": [
            "15725640\n",
            "5000\n",
            "3145.128\n"
          ]
        }
      ]
    },
    {
      "cell_type": "markdown",
      "metadata": {
        "id": "DiSiPAvU9f9F"
      },
      "source": [
        "## Answer of Q1- I got it's just simple mistake, in total sum instead of sum(), it's count() used that's why it's wrong calculation."
      ]
    },
    {
      "cell_type": "code",
      "metadata": {
        "id": "728JKP5Z9X_1"
      },
      "source": [
        ""
      ],
      "execution_count": null,
      "outputs": []
    }
  ]
}